{
  "nbformat": 4,
  "nbformat_minor": 0,
  "metadata": {
    "colab": {
      "provenance": [],
      "include_colab_link": true
    },
    "kernelspec": {
      "name": "python3",
      "display_name": "Python 3"
    },
    "language_info": {
      "name": "python"
    },
    "accelerator": "GPU",
    "gpuClass": "standard"
  },
  "cells": [
    {
      "cell_type": "markdown",
      "metadata": {
        "id": "view-in-github",
        "colab_type": "text"
      },
      "source": [
        "<a href=\"https://colab.research.google.com/github/shivani-jadhao/GithubTest/blob/main/Crowd_Detection.ipynb\" target=\"_parent\"><img src=\"https://colab.research.google.com/assets/colab-badge.svg\" alt=\"Open In Colab\"/></a>"
      ]
    },
    {
      "cell_type": "code",
      "source": [
        "from google.colab import drive\n",
        "drive.mount(\"/content/drive\")"
      ],
      "metadata": {
        "id": "p7Kqf2qIHpEY"
      },
      "execution_count": null,
      "outputs": []
    },
    {
      "cell_type": "code",
      "source": [
        "!pip install ultralytics"
      ],
      "metadata": {
        "id": "lZsvCITo7uYq"
      },
      "execution_count": null,
      "outputs": []
    },
    {
      "cell_type": "code",
      "source": [
        "from ultralytics import YOLO\n",
        "\n",
        "# Training YOLOv8 model to detect only people\n",
        "model = YOLO(\"yolov8x.pt\",task = \"detect\")\n",
        "model.train(data = \"coco128.yaml\",epochs = 10,device = 0,pretrained = True,seed = 666,single_cls = True,augment = True,classes = [0])"
      ],
      "metadata": {
        "id": "rys9HApArguD"
      },
      "execution_count": null,
      "outputs": []
    },
    {
      "cell_type": "code",
      "source": [
        "import cv2, math, numpy as np\n",
        "\n",
        "def box_dist(box1,box2):\n",
        "  \"\"\"\n",
        "  Summary: This function calculates the Euclidean distance between the centers of two bounding boxes.\n",
        "  Arguments:\n",
        "    box1 (tuple): A tuple representing the coordinates of the first bounding box in the format (x1, y1, x2, y2), \n",
        "    where (x1, y1) is the top-left corner and (x2, y2) is the bottom-right corner of the box.\n",
        "    box2 (tuple): A tuple representing the coordinates of the second bounding box in the same format as box1.\n",
        "  Returns:\n",
        "    distance (float): A float representing the Euclidean distance between the centers of box1 and box2.\n",
        "  Explanation: The function takes in two bounding boxes and calculates the center coordinates of each box. \n",
        "  It then calculates the Euclidean distance between the centers of the two boxes and returns the distance as a float.\n",
        "\n",
        "  \"\"\"\n",
        "  x1, y1, x2, y2 = box1\n",
        "  x3, y3, x4, y4 = box2\n",
        "  cx1, cy1 = x1 + x2 / 2, y1 + y2 / 2\n",
        "  cx2, cy2 = x3 + x4 / 2, y3 + y4 / 2\n",
        "  dx, dy = cx1 - cx2, cy1 - cy2\n",
        "  \n",
        "  return np.sqrt(dx ** 2 + dy ** 2)\n",
        "\n",
        "def overlap(box1,box2):\n",
        "  \"\"\"\n",
        "  Summary: This function checks if two bounding boxes overlap.\n",
        "  Arguments:\n",
        "    box1 (tuple): A tuple representing the coordinates of the first bounding box in the format (x1, y1, x2, y2), \n",
        "    where (x1, y1) is the top-left corner and (x2, y2) is the bottom-right corner of the box.\n",
        "    box2 (tuple): A tuple representing the coordinates of the second bounding box in the same format as box1.\n",
        "  Returns:\n",
        "    overlap (bool): A boolean value indicating whether the two boxes overlap.\n",
        "  Explanation: The function takes in two bounding boxes and checks if they overlap by comparing the x and y coordinates of the boxes. \n",
        "  If any of the sides of one box lies outside the other box, then they do not overlap and the function returns False. Otherwise, the function returns True.\n",
        "\n",
        "  \"\"\"\n",
        "  x1, y1, x2, y2 = box1\n",
        "  a1, b1, a2, b2 = box2\n",
        "  if x1 > a2 or a1 > x2:\n",
        "    return False\n",
        "  if y1 > b2 or b1 > y2:\n",
        "    return False\n",
        "  \n",
        "  return True\n",
        "\n",
        "def remove_overlapping_boxes(boxes):\n",
        "  \"\"\"\n",
        "  Summary: This function removes overlapping bounding boxes from a list of boxes.\n",
        "  Arguments:\n",
        "    boxes (list): A list of bounding boxes, where each bounding box is represented as a tuple in the format (x1, y1, x2, y2), \n",
        "    where (x1, y1) is the top-left corner and (x2, y2) is the bottom-right corner of the box.\n",
        "  Returns:\n",
        "    result_boxes (list): A list of non-overlapping bounding boxes, where each bounding box is represented as a tuple in the same format as the input boxes.\n",
        "  Explanation: The function takes in a list of bounding boxes and sorts them by their area in descending order. \n",
        "  It then iterates through the sorted boxes, ignoring any boxes that have already been marked for removal and checks if they overlap with any of \n",
        "  the remaining boxes. If they do overlap, it removes the box with the smaller area, and if they do not overlap, \n",
        "  it adds the box to the list of non-overlapping boxes. The function returns the list of non-overlapping boxes.\n",
        "\n",
        "  \"\"\"\n",
        "  sorted_boxes = sorted(boxes,key = lambda box: (box[2] - box[0]) * (box[3] - box[1]),reverse = True)\n",
        "  result_boxes = []\n",
        "  ignore = set()\n",
        "  for i in range(len(sorted_boxes)):\n",
        "    if i in ignore:\n",
        "      continue\n",
        "    for j in range(i+1,len(sorted_boxes)):\n",
        "      if j in ignore:\n",
        "        continue\n",
        "      if overlap(sorted_boxes[i],sorted_boxes[j]):\n",
        "        if (sorted_boxes[i][2] - sorted_boxes[i][0]) * (sorted_boxes[i][3] - sorted_boxes[i][1])\\\n",
        "         >= (sorted_boxes[j][2] - sorted_boxes[j][0]) * (sorted_boxes[j][3] - sorted_boxes[j][1]):\n",
        "          ignore.add(j)\n",
        "        else:\n",
        "          ignore.add(i)\n",
        "          break\n",
        "    else:\n",
        "      result_boxes.append(sorted_boxes[i])\n",
        "  \n",
        "  return result_boxes"
      ],
      "metadata": {
        "id": "FKSf5OBrr8UV"
      },
      "execution_count": null,
      "outputs": []
    },
    {
      "cell_type": "code",
      "source": [
        "# Initializing a video capture object to read from the input video file\n",
        "cap = cv2.VideoCapture(\"/content/drive/MyDrive/PTV_3.mp4\")\n",
        "\n",
        "# Creating a VideoWriter object to write to the output video file\n",
        "fourcc = cv2.VideoWriter_fourcc(*\"mp4v\")\n",
        "out = cv2.VideoWriter(\"output_video.mp4\",fourcc,30.0,(int(cap.get(3)),int(cap.get(4))))\n",
        "\n",
        "# Looping through each frame in the video\n",
        "while True:\n",
        "    ret, frm = cap.read()\n",
        "    if not ret:\n",
        "        break\n",
        "\n",
        "    # Converting the frame to RGB format\n",
        "    img_rgb = cv2.cvtColor(frm,cv2.COLOR_BGR2RGB)\n",
        "\n",
        "    # Predicting object detection results for the current frame using the trained model\n",
        "    res = model.predict(img_rgb,conf = 0.3,device = 0,line_thickness = 5,classes = 0)\n",
        "    pred = res[0].cpu()\n",
        "    pred_bbox = pred.boxes.xyxy\n",
        "\n",
        "    # Removing overlapping bounding boxes\n",
        "    pred_bbox = remove_overlapping_boxes(pred_bbox)\n",
        "\n",
        "    # Detecting crowded bounding boxes\n",
        "    crowd_boxes = set()\n",
        "    for i in range(len(pred_bbox)):\n",
        "        for j in range(i+1,len(pred_bbox)):\n",
        "            dist = box_dist(pred_bbox[i],pred_bbox[j])\n",
        "            if dist < 100:\n",
        "                crowd_boxes.add(i)\n",
        "                crowd_boxes.add(j)\n",
        "\n",
        "    # Drawing bounding boxes on the frame\n",
        "    for i,bbox in enumerate(pred_bbox):\n",
        "        x1, y1, x2, y2 = map(int,bbox)\n",
        "        if i in crowd_boxes and len(crowd_boxes) >= 3:\n",
        "            cv2.rectangle(frm,(x1,y1),(x2,y2),(0,0,255),5)\n",
        "        else:\n",
        "            cv2.rectangle(frm,(x1,y1),(x2,y2),(0,255,0),5)\n",
        "\n",
        "    # Adding a text message to the frame if a crowd is detected\n",
        "    crowd_count = len(crowd_boxes)\n",
        "    if crowd_count >= 3:\n",
        "        text = f\"CROWD DETECTED! {crowd_count} people.\"\n",
        "        cv2.putText(img = frm,text = text,org = (50,50),fontFace = cv2.FONT_HERSHEY_SIMPLEX,fontScale = 1,\n",
        "                    color = (0,0,255),thickness = 5,lineType = cv2.LINE_AA)\n",
        "\n",
        "    # Writing the modified frame to the output video file\n",
        "    out.write(frm)\n",
        "\n",
        "# Releasing the video capture and VideoWriter objects\n",
        "cap.release()\n",
        "out.release()\n"
      ],
      "metadata": {
        "id": "74Ps80X0Kn23"
      },
      "execution_count": null,
      "outputs": []
    }
  ]
}